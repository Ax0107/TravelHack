{
  "nbformat": 4,
  "nbformat_minor": 0,
  "metadata": {
    "colab": {
      "name": "TUI3.ipynb",
      "provenance": [],
      "collapsed_sections": []
    },
    "kernelspec": {
      "name": "python3",
      "display_name": "Python 3"
    },
    "language_info": {
      "name": "python"
    }
  },
  "cells": [
    {
      "cell_type": "code",
      "metadata": {
        "id": "jT14EQBOi-ez"
      },
      "source": [
        "import pandas as pd\n",
        "import numpy as np\n",
        "from matplotlib import pyplot as plt\n",
        "from datetime import datetime\n",
        "from tqdm import tqdm"
      ],
      "execution_count": 25,
      "outputs": []
    },
    {
      "cell_type": "code",
      "metadata": {
        "id": "8WaUQTOUjGPi"
      },
      "source": [
        "df = pd.read_csv('dataset_without_nulls.csv')"
      ],
      "execution_count": 10,
      "outputs": []
    },
    {
      "cell_type": "code",
      "metadata": {
        "id": "Yx-3YMhEFSc-"
      },
      "source": [
        "!pip install geopandas\n",
        "!pip install overpy\n",
        "!pip install overpass\n",
        "!pip install geocoder"
      ],
      "execution_count": null,
      "outputs": []
    },
    {
      "cell_type": "code",
      "metadata": {
        "id": "2RvdLxcqKBA2"
      },
      "source": [
        "import sys, setuptools, tokenize"
      ],
      "execution_count": 3,
      "outputs": []
    },
    {
      "cell_type": "code",
      "metadata": {
        "id": "vLpJZzn-FVxB"
      },
      "source": [
        "import warnings\n",
        "#warnings.filterwarnings('ignore')\n",
        "\n",
        "from tqdm import tqdm\n",
        "from geopy.geocoders import Nominatim\n",
        "import geopandas as gpd\n",
        "import overpass\n",
        "import geocoder\n",
        "import overpy"
      ],
      "execution_count": 4,
      "outputs": []
    },
    {
      "cell_type": "code",
      "metadata": {
        "id": "4ef6NtA3L5ZQ"
      },
      "source": [
        "import requests\n",
        "import json\n",
        "#from keplergl import KeplerGl\n",
        "from geopy import distance\n",
        "#import utm"
      ],
      "execution_count": 5,
      "outputs": []
    },
    {
      "cell_type": "markdown",
      "metadata": {
        "id": "KCE65OjjboY3"
      },
      "source": [
        "# Translate"
      ]
    },
    {
      "cell_type": "code",
      "metadata": {
        "id": "yDfzEpJGY1ey"
      },
      "source": [
        "!pip3 uninstall googletrans\n",
        "!pip3 install googletrans==3.1.0a0"
      ],
      "execution_count": null,
      "outputs": []
    },
    {
      "cell_type": "code",
      "metadata": {
        "id": "7I8tHN0qZ6lM"
      },
      "source": [
        "from googletrans import Translator, constants\n",
        "from pprint import pprint"
      ],
      "execution_count": 8,
      "outputs": []
    },
    {
      "cell_type": "code",
      "metadata": {
        "colab": {
          "base_uri": "https://localhost:8080/"
        },
        "id": "_-SFYuzFY3dF",
        "outputId": "e913d778-d5a1-4698-bba6-606823ccaa71"
      },
      "source": [
        "#translator = Translator()\n",
        "translation = translator.translate(\"Турция\", dest='en')\n",
        "print(translation.text)"
      ],
      "execution_count": 12,
      "outputs": [
        {
          "output_type": "stream",
          "text": [
            "Turkey\n"
          ],
          "name": "stdout"
        }
      ]
    },
    {
      "cell_type": "code",
      "metadata": {
        "id": "QC31vM-Qdnxw"
      },
      "source": [
        "def translate(city):\n",
        "  return translator.translate(city, dest='en').text"
      ],
      "execution_count": 11,
      "outputs": []
    },
    {
      "cell_type": "code",
      "metadata": {
        "id": "CV2przhiNkmx"
      },
      "source": [
        "Cities = pd.Series(df['Город Отеля'].unique()).dropna()\n",
        "Cities = Cities.apply(translate)"
      ],
      "execution_count": 13,
      "outputs": []
    },
    {
      "cell_type": "code",
      "metadata": {
        "colab": {
          "base_uri": "https://localhost:8080/"
        },
        "id": "XDqw9xc5lKNR",
        "outputId": "48f4e5f0-0c94-4063-b7fa-e7cf0256e872"
      },
      "source": [
        "Cities[:50]"
      ],
      "execution_count": 17,
      "outputs": [
        {
          "output_type": "execute_result",
          "data": {
            "text/plain": [
              "1                           Boazkent\n",
              "2                           Текирова\n",
              "3                             Alanya\n",
              "4                           Protaras\n",
              "5                         Tasilburun\n",
              "6                              Staff\n",
              "7                           Manavgat\n",
              "8                          Evrenseki\n",
              "9                              Doors\n",
              "10                           Чамьюва\n",
              "11                             Exile\n",
              "12                 Imeretinskaya Bay\n",
              "13                             Belek\n",
              "14             Fujairah Beach Hotels\n",
              "15                       Belek Centr\n",
              "16                        Redemption\n",
              "17                         Armutalan\n",
              "18                            Гейнюк\n",
              "19                         Olyudeniz\n",
              "20                            Yellow\n",
              "21                           Türkler\n",
              "22                           Readers\n",
              "23                           Incekum\n",
              "24                              Lara\n",
              "25                      Dubai Marina\n",
              "26                          Kyzylach\n",
              "27                      Introduction\n",
              "28                          Bechichi\n",
              "29                     Palm Jumeirah\n",
              "30                         New Athos\n",
              "31                               Red\n",
              "32                            Kumkoy\n",
              "33                           Fethiye\n",
              "34                               Bag\n",
              "35                           Konakli\n",
              "36                               Loo\n",
              "37    Beach hotels in Ras al Khaimah\n",
              "38                             Demre\n",
              "39                         Sheregesh\n",
              "40                      Kemer Center\n",
              "41                            Drinks\n",
              "42                            Pathos\n",
              "43                           Beldibi\n",
              "44                  Krasnaya Polyana\n",
              "45                        Titreengol\n",
              "46                         Ayia Napa\n",
              "47                          Cholakli\n",
              "48                             Budva\n",
              "49                            Dombay\n",
              "50                  South Male Atoll\n",
              "dtype: object"
            ]
          },
          "metadata": {
            "tags": []
          },
          "execution_count": 17
        }
      ]
    },
    {
      "cell_type": "code",
      "metadata": {
        "id": "-9pR53XAmtK-"
      },
      "source": [
        "tourism_attr = pd.DataFrame()\n",
        "tourism_attr['Resort'] = Cities\n",
        "tourism_attr['Курорт'] = pd.Series(df['Город Отеля'].unique()).dropna()"
      ],
      "execution_count": 19,
      "outputs": []
    },
    {
      "cell_type": "code",
      "metadata": {
        "id": "iFix8fBRrKaZ"
      },
      "source": [
        "def isEnglish(s):\n",
        "    try:\n",
        "        s.encode(encoding='utf-8').decode('ascii')\n",
        "    except UnicodeDecodeError:\n",
        "        return False\n",
        "    else:\n",
        "        return True"
      ],
      "execution_count": 80,
      "outputs": []
    },
    {
      "cell_type": "code",
      "metadata": {
        "id": "Ukqh4LITnCtP"
      },
      "source": [
        "num_of_attr = list()\n",
        "for city in tqdm(Cities):\n",
        "  if (isEnglish(city) == True) and (city.isalpha() == True) and (len(city.split(' ')) == 1):\n",
        "    api = overpy.Overpass()\n",
        "    r = api.query(f\"\"\"\n",
        "    area[name = {city}];\n",
        "    node[\"tourism\"=\"attraction\"](area);\n",
        "    out;\n",
        "    \"\"\")\n",
        "    num_of_attr.append(len(r.nodes))\n",
        "  else:\n",
        "    num_of_attr.append(0)"
      ],
      "execution_count": null,
      "outputs": []
    },
    {
      "cell_type": "code",
      "metadata": {
        "id": "Kgxj62EUz1QA"
      },
      "source": [
        "tourism_attr['Tourism_attr'] = num_of_attr"
      ],
      "execution_count": 87,
      "outputs": []
    },
    {
      "cell_type": "code",
      "metadata": {
        "colab": {
          "base_uri": "https://localhost:8080/",
          "height": 343
        },
        "id": "VAk_9-0t2ZNu",
        "outputId": "ea81ffcf-3791-4a09-8bf3-6f778433bdf5"
      },
      "source": [
        "tourism_attr.sort_values(by = ['Tourism_attr'], ascending = False).iloc[:10]"
      ],
      "execution_count": 96,
      "outputs": [
        {
          "output_type": "execute_result",
          "data": {
            "text/html": [
              "<div>\n",
              "<style scoped>\n",
              "    .dataframe tbody tr th:only-of-type {\n",
              "        vertical-align: middle;\n",
              "    }\n",
              "\n",
              "    .dataframe tbody tr th {\n",
              "        vertical-align: top;\n",
              "    }\n",
              "\n",
              "    .dataframe thead th {\n",
              "        text-align: right;\n",
              "    }\n",
              "</style>\n",
              "<table border=\"1\" class=\"dataframe\">\n",
              "  <thead>\n",
              "    <tr style=\"text-align: right;\">\n",
              "      <th></th>\n",
              "      <th>Resort</th>\n",
              "      <th>Курорт</th>\n",
              "      <th>Tourism_attr</th>\n",
              "    </tr>\n",
              "  </thead>\n",
              "  <tbody>\n",
              "    <tr>\n",
              "      <th>179</th>\n",
              "      <td>Bali</td>\n",
              "      <td>Бали</td>\n",
              "      <td>340</td>\n",
              "    </tr>\n",
              "    <tr>\n",
              "      <th>299</th>\n",
              "      <td>Paris</td>\n",
              "      <td>Париж</td>\n",
              "      <td>198</td>\n",
              "    </tr>\n",
              "    <tr>\n",
              "      <th>346</th>\n",
              "      <td>Antalya</td>\n",
              "      <td>Анталья</td>\n",
              "      <td>159</td>\n",
              "    </tr>\n",
              "    <tr>\n",
              "      <th>406</th>\n",
              "      <td>Hamburg</td>\n",
              "      <td>Гамбург</td>\n",
              "      <td>129</td>\n",
              "    </tr>\n",
              "    <tr>\n",
              "      <th>171</th>\n",
              "      <td>Helsinki</td>\n",
              "      <td>Хельсинки</td>\n",
              "      <td>120</td>\n",
              "    </tr>\n",
              "    <tr>\n",
              "      <th>306</th>\n",
              "      <td>Budapest</td>\n",
              "      <td>Будапешт</td>\n",
              "      <td>95</td>\n",
              "    </tr>\n",
              "    <tr>\n",
              "      <th>257</th>\n",
              "      <td>Fatih</td>\n",
              "      <td>Фатих</td>\n",
              "      <td>73</td>\n",
              "    </tr>\n",
              "    <tr>\n",
              "      <th>107</th>\n",
              "      <td>Barcelona</td>\n",
              "      <td>Барселона</td>\n",
              "      <td>65</td>\n",
              "    </tr>\n",
              "    <tr>\n",
              "      <th>397</th>\n",
              "      <td>Verona</td>\n",
              "      <td>Верона</td>\n",
              "      <td>54</td>\n",
              "    </tr>\n",
              "    <tr>\n",
              "      <th>132</th>\n",
              "      <td>Worms</td>\n",
              "      <td>Червиния</td>\n",
              "      <td>47</td>\n",
              "    </tr>\n",
              "  </tbody>\n",
              "</table>\n",
              "</div>"
            ],
            "text/plain": [
              "        Resort     Курорт  Tourism_attr\n",
              "179       Bali       Бали           340\n",
              "299      Paris      Париж           198\n",
              "346    Antalya    Анталья           159\n",
              "406    Hamburg    Гамбург           129\n",
              "171   Helsinki  Хельсинки           120\n",
              "306   Budapest   Будапешт            95\n",
              "257      Fatih      Фатих            73\n",
              "107  Barcelona  Барселона            65\n",
              "397     Verona     Верона            54\n",
              "132      Worms   Червиния            47"
            ]
          },
          "metadata": {
            "tags": []
          },
          "execution_count": 96
        }
      ]
    }
  ]
}